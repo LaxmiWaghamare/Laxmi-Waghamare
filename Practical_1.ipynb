{
  "nbformat": 4,
  "nbformat_minor": 0,
  "metadata": {
    "colab": {
      "provenance": [],
      "authorship_tag": "ABX9TyOA4+XoKGHcsVfdtVP+Ra98",
      "include_colab_link": true
    },
    "kernelspec": {
      "name": "python3",
      "display_name": "Python 3"
    },
    "language_info": {
      "name": "python"
    }
  },
  "cells": [
    {
      "cell_type": "markdown",
      "metadata": {
        "id": "view-in-github",
        "colab_type": "text"
      },
      "source": [
        "<a href=\"https://colab.research.google.com/github/LaxmiWaghamare/Laxmi-Waghamare/blob/main/Practical_1.ipynb\" target=\"_parent\"><img src=\"https://colab.research.google.com/assets/colab-badge.svg\" alt=\"Open In Colab\"/></a>"
      ]
    },
    {
      "cell_type": "code",
      "execution_count": 1,
      "metadata": {
        "id": "tP2MV75vXSxb",
        "colab": {
          "base_uri": "https://localhost:8080/"
        },
        "outputId": "b099dcb9-dcdb-4537-ea48-9b55dc8ba0d4"
      },
      "outputs": [
        {
          "output_type": "stream",
          "name": "stdout",
          "text": [
            "Enter the radius of circle:3\n",
            "THe area of the circle is: 28.274333882308138\n"
          ]
        }
      ],
      "source": [
        "import math as M\n",
        "r= float(input(\"Enter the radius of circle:\"))\n",
        "area_of_circle = M.pi*r*r\n",
        "print(\"THe area of the circle is:\",area_of_circle)\n"
      ]
    }
  ]
}